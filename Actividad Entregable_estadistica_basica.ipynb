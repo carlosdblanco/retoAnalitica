{
 "cells": [
  {
   "cell_type": "markdown",
   "id": "b9e61273",
   "metadata": {},
   "source": [
    "# TC1002S Herramientas computacionales\n",
    "\n",
    "**Integrantes del equipo**\n",
    "\n",
    "* Tania Sayuri Guizado Hernández | A01640092 \n",
    "* Ricardo Jiménez Ureña | A01636825                                                \n",
    "* Carlos David Blanco | A01633323                                \n",
    "* Rafael Jiménez | A01637850                                           \n",
    "* Estrada Ceballos A01638214"
   ]
  },
  {
   "cell_type": "code",
   "execution_count": 1,
   "id": "5fb3e43e",
   "metadata": {},
   "outputs": [],
   "source": [
    "import pandas as pd\n",
    "#import numpy as np\n",
    "from matplotlib import pyplot as plt\n",
    "#import random"
   ]
  },
  {
   "cell_type": "code",
   "execution_count": 2,
   "id": "7ebda396",
   "metadata": {},
   "outputs": [],
   "source": [
    "df = pd.read_csv(\"01.01.2022_da_radar_pruebas_covid19.csv\")\n",
    "del df['Unnamed: 6']"
   ]
  },
  {
   "cell_type": "code",
   "execution_count": 3,
   "id": "0aec8380",
   "metadata": {},
   "outputs": [],
   "source": [
    "df['Federal'] = df['Federal'].str.replace(',','')"
   ]
  },
  {
   "cell_type": "code",
   "execution_count": 4,
   "id": "ab07d8f3",
   "metadata": {},
   "outputs": [],
   "source": [
    "df[\"Federal\"] = df.Federal.astype(float)"
   ]
  },
  {
   "cell_type": "code",
   "execution_count": 5,
   "id": "bb89c8e0",
   "metadata": {},
   "outputs": [
    {
     "data": {
      "text/html": [
       "<div>\n",
       "<style scoped>\n",
       "    .dataframe tbody tr th:only-of-type {\n",
       "        vertical-align: middle;\n",
       "    }\n",
       "\n",
       "    .dataframe tbody tr th {\n",
       "        vertical-align: top;\n",
       "    }\n",
       "\n",
       "    .dataframe thead th {\n",
       "        text-align: right;\n",
       "    }\n",
       "</style>\n",
       "<table border=\"1\" class=\"dataframe\">\n",
       "  <thead>\n",
       "    <tr style=\"text-align: right;\">\n",
       "      <th></th>\n",
       "      <th>Fecha</th>\n",
       "      <th>Resultado</th>\n",
       "      <th>Federal</th>\n",
       "      <th>U de G</th>\n",
       "      <th>Privado</th>\n",
       "      <th>Rapidas</th>\n",
       "    </tr>\n",
       "  </thead>\n",
       "  <tbody>\n",
       "    <tr>\n",
       "      <th>0</th>\n",
       "      <td>17/04/2020</td>\n",
       "      <td>Confirmados</td>\n",
       "      <td>190.0</td>\n",
       "      <td>0</td>\n",
       "      <td>18</td>\n",
       "      <td>Na</td>\n",
       "    </tr>\n",
       "    <tr>\n",
       "      <th>1</th>\n",
       "      <td>17/04/2020</td>\n",
       "      <td>Descartados</td>\n",
       "      <td>2601.0</td>\n",
       "      <td>110</td>\n",
       "      <td>271</td>\n",
       "      <td>Na</td>\n",
       "    </tr>\n",
       "    <tr>\n",
       "      <th>2</th>\n",
       "      <td>17/04/2020</td>\n",
       "      <td>Sospechosos</td>\n",
       "      <td>573.0</td>\n",
       "      <td>18</td>\n",
       "      <td>Na</td>\n",
       "      <td>Na</td>\n",
       "    </tr>\n",
       "    <tr>\n",
       "      <th>3</th>\n",
       "      <td>18/04/2020</td>\n",
       "      <td>Confirmados</td>\n",
       "      <td>196.0</td>\n",
       "      <td>0</td>\n",
       "      <td>18</td>\n",
       "      <td>Na</td>\n",
       "    </tr>\n",
       "    <tr>\n",
       "      <th>4</th>\n",
       "      <td>18/04/2020</td>\n",
       "      <td>Descartados</td>\n",
       "      <td>2666.0</td>\n",
       "      <td>110</td>\n",
       "      <td>271</td>\n",
       "      <td>Na</td>\n",
       "    </tr>\n",
       "    <tr>\n",
       "      <th>5</th>\n",
       "      <td>18/04/2020</td>\n",
       "      <td>Sospechosos</td>\n",
       "      <td>547.0</td>\n",
       "      <td>18</td>\n",
       "      <td>Na</td>\n",
       "      <td>Na</td>\n",
       "    </tr>\n",
       "    <tr>\n",
       "      <th>6</th>\n",
       "      <td>19/04/2020</td>\n",
       "      <td>Confirmados</td>\n",
       "      <td>198.0</td>\n",
       "      <td>0</td>\n",
       "      <td>18</td>\n",
       "      <td>Na</td>\n",
       "    </tr>\n",
       "    <tr>\n",
       "      <th>7</th>\n",
       "      <td>19/04/2020</td>\n",
       "      <td>Descartados</td>\n",
       "      <td>2805.0</td>\n",
       "      <td>110</td>\n",
       "      <td>271</td>\n",
       "      <td>Na</td>\n",
       "    </tr>\n",
       "    <tr>\n",
       "      <th>8</th>\n",
       "      <td>19/04/2020</td>\n",
       "      <td>Sospechosos</td>\n",
       "      <td>372.0</td>\n",
       "      <td>0</td>\n",
       "      <td>Na</td>\n",
       "      <td>Na</td>\n",
       "    </tr>\n",
       "    <tr>\n",
       "      <th>9</th>\n",
       "      <td>20/04/2020</td>\n",
       "      <td>Confirmados</td>\n",
       "      <td>216.0</td>\n",
       "      <td>0</td>\n",
       "      <td>18</td>\n",
       "      <td>Na</td>\n",
       "    </tr>\n",
       "  </tbody>\n",
       "</table>\n",
       "</div>"
      ],
      "text/plain": [
       "        Fecha    Resultado  Federal U de G Privado Rapidas\n",
       "0  17/04/2020  Confirmados    190.0      0      18      Na\n",
       "1  17/04/2020  Descartados   2601.0    110     271      Na\n",
       "2  17/04/2020  Sospechosos    573.0     18      Na      Na\n",
       "3  18/04/2020  Confirmados    196.0      0      18      Na\n",
       "4  18/04/2020  Descartados   2666.0    110     271      Na\n",
       "5  18/04/2020  Sospechosos    547.0     18      Na      Na\n",
       "6  19/04/2020  Confirmados    198.0      0      18      Na\n",
       "7  19/04/2020  Descartados   2805.0    110     271      Na\n",
       "8  19/04/2020  Sospechosos    372.0      0      Na      Na\n",
       "9  20/04/2020  Confirmados    216.0      0      18      Na"
      ]
     },
     "execution_count": 5,
     "metadata": {},
     "output_type": "execute_result"
    }
   ],
   "source": [
    "df.head(10)"
   ]
  },
  {
   "cell_type": "code",
   "execution_count": 6,
   "id": "8bfeb08c",
   "metadata": {},
   "outputs": [
    {
     "data": {
      "text/plain": [
       "1875"
      ]
     },
     "execution_count": 6,
     "metadata": {},
     "output_type": "execute_result"
    }
   ],
   "source": [
    "len(df.index)"
   ]
  },
  {
   "cell_type": "code",
   "execution_count": 7,
   "id": "73c73cad",
   "metadata": {},
   "outputs": [
    {
     "name": "stdout",
     "output_type": "stream",
     "text": [
      "<class 'pandas.core.frame.DataFrame'>\n",
      "RangeIndex: 1875 entries, 0 to 1874\n",
      "Data columns (total 6 columns):\n",
      " #   Column     Non-Null Count  Dtype  \n",
      "---  ------     --------------  -----  \n",
      " 0   Fecha      1875 non-null   object \n",
      " 1   Resultado  1875 non-null   object \n",
      " 2   Federal    1875 non-null   float64\n",
      " 3   U de G     1875 non-null   object \n",
      " 4   Privado    1822 non-null   object \n",
      " 5   Rapidas    1822 non-null   object \n",
      "dtypes: float64(1), object(5)\n",
      "memory usage: 88.0+ KB\n"
     ]
    }
   ],
   "source": [
    "df.info()"
   ]
  },
  {
   "cell_type": "markdown",
   "id": "1bf981ad",
   "metadata": {},
   "source": [
    "# Media"
   ]
  },
  {
   "cell_type": "code",
   "execution_count": 8,
   "id": "b0a5babb",
   "metadata": {},
   "outputs": [
    {
     "name": "stdout",
     "output_type": "stream",
     "text": [
      "Media:  60256.4832\n"
     ]
    }
   ],
   "source": [
    "print('Media: ', df[\"Federal\"].mean())"
   ]
  },
  {
   "cell_type": "markdown",
   "id": "af6e1535",
   "metadata": {},
   "source": [
    "# Mediana"
   ]
  },
  {
   "cell_type": "code",
   "execution_count": 9,
   "id": "d6366b69",
   "metadata": {},
   "outputs": [
    {
     "name": "stdout",
     "output_type": "stream",
     "text": [
      "Mediana: 29800.0\n"
     ]
    }
   ],
   "source": [
    "print('Mediana:', df[\"Federal\"].median())"
   ]
  },
  {
   "cell_type": "markdown",
   "id": "161f452b",
   "metadata": {},
   "source": [
    "# Desviación estándar"
   ]
  },
  {
   "cell_type": "code",
   "execution_count": 10,
   "id": "95eb1ddb",
   "metadata": {},
   "outputs": [
    {
     "name": "stdout",
     "output_type": "stream",
     "text": [
      "Desviación estándar:  59558.50207360816\n"
     ]
    }
   ],
   "source": [
    "print('Desviación estándar: ', df[\"Federal\"].std())"
   ]
  }
 ],
 "metadata": {
  "kernelspec": {
   "display_name": "Python 3 (ipykernel)",
   "language": "python",
   "name": "python3"
  },
  "language_info": {
   "codemirror_mode": {
    "name": "ipython",
    "version": 3
   },
   "file_extension": ".py",
   "mimetype": "text/x-python",
   "name": "python",
   "nbconvert_exporter": "python",
   "pygments_lexer": "ipython3",
   "version": "3.9.7"
  }
 },
 "nbformat": 4,
 "nbformat_minor": 5
}
